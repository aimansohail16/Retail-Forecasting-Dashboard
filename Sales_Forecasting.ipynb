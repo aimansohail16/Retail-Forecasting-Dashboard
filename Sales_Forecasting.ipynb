{
 "cells": [
  {
   "cell_type": "code",
   "execution_count": 1,
   "id": "379c33d8",
   "metadata": {},
   "outputs": [],
   "source": [
    "import pandas as pd\n",
    "import numpy as np\n",
    "import mysql.connector\n",
    "from prophet import Prophet\n",
    "import matplotlib.pyplot as plt"
   ]
  },
  {
   "cell_type": "code",
   "execution_count": 2,
   "id": "8daaa5ad",
   "metadata": {},
   "outputs": [],
   "source": [
    "mydb = mysql.connector.connect(\n",
    "    host=\"localhost\",\n",
    "    user=\"root\",\n",
    "    password=\"Nayatel1234.\",\n",
    "    database=\"retail_forecasting\"\n",
    ")"
   ]
  },
  {
   "cell_type": "code",
   "execution_count": 3,
   "id": "959e18f4",
   "metadata": {},
   "outputs": [
    {
     "name": "stderr",
     "output_type": "stream",
     "text": [
      "/var/folders/pd/ytcd7z3x2hddb0t98zp6vtrc0000gn/T/ipykernel_4684/1931268912.py:2: UserWarning: pandas only supports SQLAlchemy connectable (engine/connection) or database string URI or sqlite3 DBAPI2 connection. Other DBAPI2 objects are not tested. Please consider using SQLAlchemy.\n",
      "  df = pd.read_sql(query, mydb)\n"
     ]
    }
   ],
   "source": [
    "query = \"SELECT * FROM clean_forecasting_data\"\n",
    "df = pd.read_sql(query, mydb)"
   ]
  },
  {
   "cell_type": "code",
   "execution_count": 4,
   "id": "16ef729e",
   "metadata": {},
   "outputs": [
    {
     "data": {
      "text/html": [
       "<div>\n",
       "<style scoped>\n",
       "    .dataframe tbody tr th:only-of-type {\n",
       "        vertical-align: middle;\n",
       "    }\n",
       "\n",
       "    .dataframe tbody tr th {\n",
       "        vertical-align: top;\n",
       "    }\n",
       "\n",
       "    .dataframe thead th {\n",
       "        text-align: right;\n",
       "    }\n",
       "</style>\n",
       "<table border=\"1\" class=\"dataframe\">\n",
       "  <thead>\n",
       "    <tr style=\"text-align: right;\">\n",
       "      <th></th>\n",
       "      <th>date</th>\n",
       "      <th>store_nbr</th>\n",
       "      <th>family</th>\n",
       "      <th>sales</th>\n",
       "      <th>onpromotion</th>\n",
       "      <th>transactions</th>\n",
       "      <th>oil_prices</th>\n",
       "      <th>holiday_event</th>\n",
       "      <th>city</th>\n",
       "      <th>state</th>\n",
       "    </tr>\n",
       "  </thead>\n",
       "  <tbody>\n",
       "    <tr>\n",
       "      <th>0</th>\n",
       "      <td>2013-01-01</td>\n",
       "      <td>25</td>\n",
       "      <td>AUTOMOTIVE</td>\n",
       "      <td>0</td>\n",
       "      <td>0</td>\n",
       "      <td>770.0</td>\n",
       "      <td>93.14</td>\n",
       "      <td>Primer dia del ano</td>\n",
       "      <td>Salinas</td>\n",
       "      <td>Santa Elena</td>\n",
       "    </tr>\n",
       "    <tr>\n",
       "      <th>1</th>\n",
       "      <td>2013-01-01</td>\n",
       "      <td>25</td>\n",
       "      <td>BABY CARE</td>\n",
       "      <td>0</td>\n",
       "      <td>0</td>\n",
       "      <td>770.0</td>\n",
       "      <td>93.14</td>\n",
       "      <td>Primer dia del ano</td>\n",
       "      <td>Salinas</td>\n",
       "      <td>Santa Elena</td>\n",
       "    </tr>\n",
       "    <tr>\n",
       "      <th>2</th>\n",
       "      <td>2013-01-01</td>\n",
       "      <td>25</td>\n",
       "      <td>BEAUTY</td>\n",
       "      <td>2</td>\n",
       "      <td>0</td>\n",
       "      <td>770.0</td>\n",
       "      <td>93.14</td>\n",
       "      <td>Primer dia del ano</td>\n",
       "      <td>Salinas</td>\n",
       "      <td>Santa Elena</td>\n",
       "    </tr>\n",
       "    <tr>\n",
       "      <th>3</th>\n",
       "      <td>2013-01-01</td>\n",
       "      <td>25</td>\n",
       "      <td>BEVERAGES</td>\n",
       "      <td>810</td>\n",
       "      <td>0</td>\n",
       "      <td>770.0</td>\n",
       "      <td>93.14</td>\n",
       "      <td>Primer dia del ano</td>\n",
       "      <td>Salinas</td>\n",
       "      <td>Santa Elena</td>\n",
       "    </tr>\n",
       "    <tr>\n",
       "      <th>4</th>\n",
       "      <td>2013-01-01</td>\n",
       "      <td>25</td>\n",
       "      <td>BOOKS</td>\n",
       "      <td>0</td>\n",
       "      <td>0</td>\n",
       "      <td>770.0</td>\n",
       "      <td>93.14</td>\n",
       "      <td>Primer dia del ano</td>\n",
       "      <td>Salinas</td>\n",
       "      <td>Santa Elena</td>\n",
       "    </tr>\n",
       "  </tbody>\n",
       "</table>\n",
       "</div>"
      ],
      "text/plain": [
       "         date  store_nbr      family  sales  onpromotion  transactions  \\\n",
       "0  2013-01-01         25  AUTOMOTIVE      0            0         770.0   \n",
       "1  2013-01-01         25   BABY CARE      0            0         770.0   \n",
       "2  2013-01-01         25      BEAUTY      2            0         770.0   \n",
       "3  2013-01-01         25   BEVERAGES    810            0         770.0   \n",
       "4  2013-01-01         25       BOOKS      0            0         770.0   \n",
       "\n",
       "   oil_prices       holiday_event     city        state  \n",
       "0       93.14  Primer dia del ano  Salinas  Santa Elena  \n",
       "1       93.14  Primer dia del ano  Salinas  Santa Elena  \n",
       "2       93.14  Primer dia del ano  Salinas  Santa Elena  \n",
       "3       93.14  Primer dia del ano  Salinas  Santa Elena  \n",
       "4       93.14  Primer dia del ano  Salinas  Santa Elena  "
      ]
     },
     "execution_count": 4,
     "metadata": {},
     "output_type": "execute_result"
    }
   ],
   "source": [
    "df.head()"
   ]
  },
  {
   "cell_type": "code",
   "execution_count": 5,
   "id": "a8be696a",
   "metadata": {},
   "outputs": [
    {
     "data": {
      "text/plain": [
       "date              object\n",
       "store_nbr          int64\n",
       "family            object\n",
       "sales              int64\n",
       "onpromotion        int64\n",
       "transactions     float64\n",
       "oil_prices       float64\n",
       "holiday_event     object\n",
       "city              object\n",
       "state             object\n",
       "dtype: object"
      ]
     },
     "execution_count": 5,
     "metadata": {},
     "output_type": "execute_result"
    }
   ],
   "source": [
    "df.dtypes"
   ]
  },
  {
   "cell_type": "code",
   "execution_count": 6,
   "id": "b3885b7f",
   "metadata": {},
   "outputs": [],
   "source": [
    "df['date'] = pd.to_datetime(df['date'], format = \"%Y-%m-%d\")"
   ]
  },
  {
   "cell_type": "code",
   "execution_count": 7,
   "id": "2aeb6b9c",
   "metadata": {},
   "outputs": [
    {
     "data": {
      "text/plain": [
       "date             datetime64[ns]\n",
       "store_nbr                 int64\n",
       "family                   object\n",
       "sales                     int64\n",
       "onpromotion               int64\n",
       "transactions            float64\n",
       "oil_prices              float64\n",
       "holiday_event            object\n",
       "city                     object\n",
       "state                    object\n",
       "dtype: object"
      ]
     },
     "execution_count": 7,
     "metadata": {},
     "output_type": "execute_result"
    }
   ],
   "source": [
    "df.dtypes"
   ]
  },
  {
   "cell_type": "code",
   "execution_count": 8,
   "id": "075b83db",
   "metadata": {},
   "outputs": [
    {
     "data": {
      "text/plain": [
       "(3054348, 10)"
      ]
     },
     "execution_count": 8,
     "metadata": {},
     "output_type": "execute_result"
    }
   ],
   "source": [
    "df.shape"
   ]
  },
  {
   "cell_type": "code",
   "execution_count": 9,
   "id": "6b12266b",
   "metadata": {},
   "outputs": [
    {
     "data": {
      "text/html": [
       "<div>\n",
       "<style scoped>\n",
       "    .dataframe tbody tr th:only-of-type {\n",
       "        vertical-align: middle;\n",
       "    }\n",
       "\n",
       "    .dataframe tbody tr th {\n",
       "        vertical-align: top;\n",
       "    }\n",
       "\n",
       "    .dataframe thead th {\n",
       "        text-align: right;\n",
       "    }\n",
       "</style>\n",
       "<table border=\"1\" class=\"dataframe\">\n",
       "  <thead>\n",
       "    <tr style=\"text-align: right;\">\n",
       "      <th></th>\n",
       "      <th>date</th>\n",
       "      <th>store_nbr</th>\n",
       "      <th>sales</th>\n",
       "      <th>onpromotion</th>\n",
       "      <th>transactions</th>\n",
       "      <th>oil_prices</th>\n",
       "    </tr>\n",
       "  </thead>\n",
       "  <tbody>\n",
       "    <tr>\n",
       "      <th>count</th>\n",
       "      <td>3054348</td>\n",
       "      <td>3.054348e+06</td>\n",
       "      <td>3.054348e+06</td>\n",
       "      <td>3.054348e+06</td>\n",
       "      <td>2.805231e+06</td>\n",
       "      <td>2.175822e+06</td>\n",
       "    </tr>\n",
       "    <tr>\n",
       "      <th>mean</th>\n",
       "      <td>2015-04-26 12:11:45.717620480</td>\n",
       "      <td>2.750000e+01</td>\n",
       "      <td>3.590208e+02</td>\n",
       "      <td>2.617480e+00</td>\n",
       "      <td>1.697071e+03</td>\n",
       "      <td>6.795358e+01</td>\n",
       "    </tr>\n",
       "    <tr>\n",
       "      <th>min</th>\n",
       "      <td>2013-01-01 00:00:00</td>\n",
       "      <td>1.000000e+00</td>\n",
       "      <td>0.000000e+00</td>\n",
       "      <td>0.000000e+00</td>\n",
       "      <td>5.000000e+00</td>\n",
       "      <td>2.619000e+01</td>\n",
       "    </tr>\n",
       "    <tr>\n",
       "      <th>25%</th>\n",
       "      <td>2014-03-01 00:00:00</td>\n",
       "      <td>1.400000e+01</td>\n",
       "      <td>0.000000e+00</td>\n",
       "      <td>0.000000e+00</td>\n",
       "      <td>1.046000e+03</td>\n",
       "      <td>4.646000e+01</td>\n",
       "    </tr>\n",
       "    <tr>\n",
       "      <th>50%</th>\n",
       "      <td>2015-04-28 12:00:00</td>\n",
       "      <td>2.750000e+01</td>\n",
       "      <td>1.100000e+01</td>\n",
       "      <td>0.000000e+00</td>\n",
       "      <td>1.395000e+03</td>\n",
       "      <td>5.341000e+01</td>\n",
       "    </tr>\n",
       "    <tr>\n",
       "      <th>75%</th>\n",
       "      <td>2016-06-22 00:00:00</td>\n",
       "      <td>4.100000e+01</td>\n",
       "      <td>1.960000e+02</td>\n",
       "      <td>0.000000e+00</td>\n",
       "      <td>2.081000e+03</td>\n",
       "      <td>9.580000e+01</td>\n",
       "    </tr>\n",
       "    <tr>\n",
       "      <th>max</th>\n",
       "      <td>2017-08-15 00:00:00</td>\n",
       "      <td>5.400000e+01</td>\n",
       "      <td>1.247170e+05</td>\n",
       "      <td>7.410000e+02</td>\n",
       "      <td>8.359000e+03</td>\n",
       "      <td>1.106200e+02</td>\n",
       "    </tr>\n",
       "    <tr>\n",
       "      <th>std</th>\n",
       "      <td>NaN</td>\n",
       "      <td>1.558579e+01</td>\n",
       "      <td>1.107286e+03</td>\n",
       "      <td>1.225494e+01</td>\n",
       "      <td>9.668317e+02</td>\n",
       "      <td>2.566958e+01</td>\n",
       "    </tr>\n",
       "  </tbody>\n",
       "</table>\n",
       "</div>"
      ],
      "text/plain": [
       "                                date     store_nbr         sales  \\\n",
       "count                        3054348  3.054348e+06  3.054348e+06   \n",
       "mean   2015-04-26 12:11:45.717620480  2.750000e+01  3.590208e+02   \n",
       "min              2013-01-01 00:00:00  1.000000e+00  0.000000e+00   \n",
       "25%              2014-03-01 00:00:00  1.400000e+01  0.000000e+00   \n",
       "50%              2015-04-28 12:00:00  2.750000e+01  1.100000e+01   \n",
       "75%              2016-06-22 00:00:00  4.100000e+01  1.960000e+02   \n",
       "max              2017-08-15 00:00:00  5.400000e+01  1.247170e+05   \n",
       "std                              NaN  1.558579e+01  1.107286e+03   \n",
       "\n",
       "        onpromotion  transactions    oil_prices  \n",
       "count  3.054348e+06  2.805231e+06  2.175822e+06  \n",
       "mean   2.617480e+00  1.697071e+03  6.795358e+01  \n",
       "min    0.000000e+00  5.000000e+00  2.619000e+01  \n",
       "25%    0.000000e+00  1.046000e+03  4.646000e+01  \n",
       "50%    0.000000e+00  1.395000e+03  5.341000e+01  \n",
       "75%    0.000000e+00  2.081000e+03  9.580000e+01  \n",
       "max    7.410000e+02  8.359000e+03  1.106200e+02  \n",
       "std    1.225494e+01  9.668317e+02  2.566958e+01  "
      ]
     },
     "execution_count": 9,
     "metadata": {},
     "output_type": "execute_result"
    }
   ],
   "source": [
    "df.describe()"
   ]
  },
  {
   "cell_type": "code",
   "execution_count": 11,
   "id": "d58e8877",
   "metadata": {},
   "outputs": [
    {
     "data": {
      "text/plain": [
       "<Axes: >"
      ]
     },
     "execution_count": 11,
     "metadata": {},
     "output_type": "execute_result"
    },
    {
     "data": {
      "image/png": "[encoded data removed]",
      "text/plain": [
       "<Figure size 640x480 with 1 Axes>"
      ]
     },
     "metadata": {},
     "output_type": "display_data"
    }
   ],
   "source": [
    "#to see outliers clearly\n",
    "import seaborn as sns\n",
    "sns.boxplot(df['sales'])"
   ]
  },
  {
   "cell_type": "code",
   "execution_count": 12,
   "id": "489e6f0a",
   "metadata": {},
   "outputs": [
    {
     "data": {
      "image/png": "[encoded data removed]",
      "text/plain": [
       "<Figure size 1200x500 with 1 Axes>"
      ]
     },
     "metadata": {},
     "output_type": "display_data"
    }
   ],
   "source": [
    "plt.figure(figsize=(12,5))\n",
    "plt.plot(df['date'], df['sales'], alpha=0.6)\n",
    "plt.show()"
   ]
  },
  {
   "cell_type": "code",
   "execution_count": 13,
   "id": "24751e14",
   "metadata": {},
   "outputs": [
    {
     "name": "stdout",
     "output_type": "stream",
     "text": [
      "upper_limit:  3680.8785867406855\n",
      "lower_limit:  -2962.8369294049794\n"
     ]
    }
   ],
   "source": [
    "#find the limits\n",
    "upper_limit = df['sales'].mean() + 3*df['sales'].std()\n",
    "lower_limit = df['sales'].mean() - 3*df['sales'].std()\n",
    "print('upper_limit: ', upper_limit)\n",
    "print('lower_limit: ', lower_limit)"
   ]
  },
  {
   "cell_type": "code",
   "execution_count": 14,
   "id": "ebea6fde",
   "metadata": {},
   "outputs": [
    {
     "data": {
      "text/html": [
       "<div>\n",
       "<style scoped>\n",
       "    .dataframe tbody tr th:only-of-type {\n",
       "        vertical-align: middle;\n",
       "    }\n",
       "\n",
       "    .dataframe tbody tr th {\n",
       "        vertical-align: top;\n",
       "    }\n",
       "\n",
       "    .dataframe thead th {\n",
       "        text-align: right;\n",
       "    }\n",
       "</style>\n",
       "<table border=\"1\" class=\"dataframe\">\n",
       "  <thead>\n",
       "    <tr style=\"text-align: right;\">\n",
       "      <th></th>\n",
       "      <th>date</th>\n",
       "      <th>store_nbr</th>\n",
       "      <th>family</th>\n",
       "      <th>sales</th>\n",
       "      <th>onpromotion</th>\n",
       "      <th>transactions</th>\n",
       "      <th>oil_prices</th>\n",
       "      <th>holiday_event</th>\n",
       "      <th>city</th>\n",
       "      <th>state</th>\n",
       "    </tr>\n",
       "  </thead>\n",
       "  <tbody>\n",
       "    <tr>\n",
       "      <th>111</th>\n",
       "      <td>2013-01-02</td>\n",
       "      <td>11</td>\n",
       "      <td>GROCERY I</td>\n",
       "      <td>7736</td>\n",
       "      <td>0</td>\n",
       "      <td>3547.0</td>\n",
       "      <td>93.14</td>\n",
       "      <td>None</td>\n",
       "      <td>Cayambe</td>\n",
       "      <td>Pichincha</td>\n",
       "    </tr>\n",
       "    <tr>\n",
       "      <th>342</th>\n",
       "      <td>2013-01-02</td>\n",
       "      <td>18</td>\n",
       "      <td>GROCERY I</td>\n",
       "      <td>3756</td>\n",
       "      <td>0</td>\n",
       "      <td>1635.0</td>\n",
       "      <td>93.14</td>\n",
       "      <td>None</td>\n",
       "      <td>Quito</td>\n",
       "      <td>Pichincha</td>\n",
       "    </tr>\n",
       "    <tr>\n",
       "      <th>408</th>\n",
       "      <td>2013-01-02</td>\n",
       "      <td>2</td>\n",
       "      <td>GROCERY I</td>\n",
       "      <td>3870</td>\n",
       "      <td>0</td>\n",
       "      <td>2358.0</td>\n",
       "      <td>93.14</td>\n",
       "      <td>None</td>\n",
       "      <td>Quito</td>\n",
       "      <td>Pichincha</td>\n",
       "    </tr>\n",
       "    <tr>\n",
       "      <th>474</th>\n",
       "      <td>2013-01-02</td>\n",
       "      <td>24</td>\n",
       "      <td>GROCERY I</td>\n",
       "      <td>3920</td>\n",
       "      <td>0</td>\n",
       "      <td>2605.0</td>\n",
       "      <td>93.14</td>\n",
       "      <td>None</td>\n",
       "      <td>Guayaquil</td>\n",
       "      <td>Guayas</td>\n",
       "    </tr>\n",
       "    <tr>\n",
       "      <th>630</th>\n",
       "      <td>2013-01-02</td>\n",
       "      <td>3</td>\n",
       "      <td>BEVERAGES</td>\n",
       "      <td>4486</td>\n",
       "      <td>0</td>\n",
       "      <td>3487.0</td>\n",
       "      <td>93.14</td>\n",
       "      <td>None</td>\n",
       "      <td>Quito</td>\n",
       "      <td>Pichincha</td>\n",
       "    </tr>\n",
       "    <tr>\n",
       "      <th>...</th>\n",
       "      <td>...</td>\n",
       "      <td>...</td>\n",
       "      <td>...</td>\n",
       "      <td>...</td>\n",
       "      <td>...</td>\n",
       "      <td>...</td>\n",
       "      <td>...</td>\n",
       "      <td>...</td>\n",
       "      <td>...</td>\n",
       "      <td>...</td>\n",
       "    </tr>\n",
       "    <tr>\n",
       "      <th>3054153</th>\n",
       "      <td>2017-08-01</td>\n",
       "      <td>47</td>\n",
       "      <td>BEVERAGES</td>\n",
       "      <td>8636</td>\n",
       "      <td>31</td>\n",
       "      <td>3846.0</td>\n",
       "      <td>49.19</td>\n",
       "      <td>None</td>\n",
       "      <td>Quito</td>\n",
       "      <td>Pichincha</td>\n",
       "    </tr>\n",
       "    <tr>\n",
       "      <th>3054162</th>\n",
       "      <td>2017-08-01</td>\n",
       "      <td>47</td>\n",
       "      <td>GROCERY I</td>\n",
       "      <td>12456</td>\n",
       "      <td>62</td>\n",
       "      <td>3846.0</td>\n",
       "      <td>49.19</td>\n",
       "      <td>None</td>\n",
       "      <td>Quito</td>\n",
       "      <td>Pichincha</td>\n",
       "    </tr>\n",
       "    <tr>\n",
       "      <th>3054180</th>\n",
       "      <td>2017-08-01</td>\n",
       "      <td>47</td>\n",
       "      <td>PRODUCE</td>\n",
       "      <td>5694</td>\n",
       "      <td>15</td>\n",
       "      <td>3846.0</td>\n",
       "      <td>49.19</td>\n",
       "      <td>None</td>\n",
       "      <td>Quito</td>\n",
       "      <td>Pichincha</td>\n",
       "    </tr>\n",
       "    <tr>\n",
       "      <th>3054195</th>\n",
       "      <td>2017-08-03</td>\n",
       "      <td>29</td>\n",
       "      <td>GROCERY I</td>\n",
       "      <td>4251</td>\n",
       "      <td>68</td>\n",
       "      <td>1139.0</td>\n",
       "      <td>49.03</td>\n",
       "      <td>None</td>\n",
       "      <td>Guayaquil</td>\n",
       "      <td>Guayas</td>\n",
       "    </tr>\n",
       "    <tr>\n",
       "      <th>3054294</th>\n",
       "      <td>2017-08-13</td>\n",
       "      <td>41</td>\n",
       "      <td>GROCERY I</td>\n",
       "      <td>4188</td>\n",
       "      <td>33</td>\n",
       "      <td>1346.0</td>\n",
       "      <td>NaN</td>\n",
       "      <td>None</td>\n",
       "      <td>Machala</td>\n",
       "      <td>El Oro</td>\n",
       "    </tr>\n",
       "  </tbody>\n",
       "</table>\n",
       "<p>66128 rows × 10 columns</p>\n",
       "</div>"
      ],
      "text/plain": [
       "              date  store_nbr     family  sales  onpromotion  transactions  \\\n",
       "111     2013-01-02         11  GROCERY I   7736            0        3547.0   \n",
       "342     2013-01-02         18  GROCERY I   3756            0        1635.0   \n",
       "408     2013-01-02          2  GROCERY I   3870            0        2358.0   \n",
       "474     2013-01-02         24  GROCERY I   3920            0        2605.0   \n",
       "630     2013-01-02          3  BEVERAGES   4486            0        3487.0   \n",
       "...            ...        ...        ...    ...          ...           ...   \n",
       "3054153 2017-08-01         47  BEVERAGES   8636           31        3846.0   \n",
       "3054162 2017-08-01         47  GROCERY I  12456           62        3846.0   \n",
       "3054180 2017-08-01         47    PRODUCE   5694           15        3846.0   \n",
       "3054195 2017-08-03         29  GROCERY I   4251           68        1139.0   \n",
       "3054294 2017-08-13         41  GROCERY I   4188           33        1346.0   \n",
       "\n",
       "         oil_prices holiday_event       city      state  \n",
       "111           93.14          None    Cayambe  Pichincha  \n",
       "342           93.14          None      Quito  Pichincha  \n",
       "408           93.14          None      Quito  Pichincha  \n",
       "474           93.14          None  Guayaquil     Guayas  \n",
       "630           93.14          None      Quito  Pichincha  \n",
       "...             ...           ...        ...        ...  \n",
       "3054153       49.19          None      Quito  Pichincha  \n",
       "3054162       49.19          None      Quito  Pichincha  \n",
       "3054180       49.19          None      Quito  Pichincha  \n",
       "3054195       49.03          None  Guayaquil     Guayas  \n",
       "3054294         NaN          None    Machala     El Oro  \n",
       "\n",
       "[66128 rows x 10 columns]"
      ]
     },
     "execution_count": 14,
     "metadata": {},
     "output_type": "execute_result"
    }
   ],
   "source": [
    "#find the outliers\n",
    "df.loc[(df['sales'] > upper_limit) | (df['sales'] < lower_limit)]"
   ]
  },
  {
   "cell_type": "code",
   "execution_count": 15,
   "id": "714d1425",
   "metadata": {},
   "outputs": [],
   "source": [
    "#capping - change the outlier values to upper or lower limit values\n",
    "new_data = df.copy()\n",
    "new_data.loc[new_data['sales']>upper_limit, 'sales'] = upper_limit\n",
    "new_data.loc[new_data['sales']<lower_limit, 'sales'] = lower_limit"
   ]
  },
  {
   "cell_type": "code",
   "execution_count": 16,
   "id": "2eda8ce3",
   "metadata": {},
   "outputs": [
    {
     "data": {
      "text/plain": [
       "<Axes: >"
      ]
     },
     "execution_count": 16,
     "metadata": {},
     "output_type": "execute_result"
    },
    {
     "data": {
      "image/png": "[encoded data removed]",
      "text/plain": [
       "<Figure size 640x480 with 1 Axes>"
      ]
     },
     "metadata": {},
     "output_type": "display_data"
    }
   ],
   "source": [
    "sns.boxplot(new_data['sales'])"
   ]
  },
  {
   "cell_type": "code",
   "execution_count": 17,
   "id": "c8d5163c",
   "metadata": {},
   "outputs": [],
   "source": [
    "new_data.to_csv(\"clean_data.csv\", index=False)"
   ]
  },
  {
   "cell_type": "code",
   "execution_count": 18,
   "id": "17156eac",
   "metadata": {},
   "outputs": [
    {
     "data": {
      "text/html": [
       "<div>\n",
       "<style scoped>\n",
       "    .dataframe tbody tr th:only-of-type {\n",
       "        vertical-align: middle;\n",
       "    }\n",
       "\n",
       "    .dataframe tbody tr th {\n",
       "        vertical-align: top;\n",
       "    }\n",
       "\n",
       "    .dataframe thead th {\n",
       "        text-align: right;\n",
       "    }\n",
       "</style>\n",
       "<table border=\"1\" class=\"dataframe\">\n",
       "  <thead>\n",
       "    <tr style=\"text-align: right;\">\n",
       "      <th></th>\n",
       "      <th>date</th>\n",
       "      <th>store_nbr</th>\n",
       "      <th>sales</th>\n",
       "      <th>onpromotion</th>\n",
       "      <th>transactions</th>\n",
       "      <th>oil_prices</th>\n",
       "    </tr>\n",
       "  </thead>\n",
       "  <tbody>\n",
       "    <tr>\n",
       "      <th>count</th>\n",
       "      <td>3054348</td>\n",
       "      <td>3.054348e+06</td>\n",
       "      <td>3.054348e+06</td>\n",
       "      <td>3.054348e+06</td>\n",
       "      <td>2.805231e+06</td>\n",
       "      <td>2.175822e+06</td>\n",
       "    </tr>\n",
       "    <tr>\n",
       "      <th>mean</th>\n",
       "      <td>2015-04-26 12:11:45.717620480</td>\n",
       "      <td>2.750000e+01</td>\n",
       "      <td>3.037042e+02</td>\n",
       "      <td>2.617480e+00</td>\n",
       "      <td>1.697071e+03</td>\n",
       "      <td>6.795358e+01</td>\n",
       "    </tr>\n",
       "    <tr>\n",
       "      <th>min</th>\n",
       "      <td>2013-01-01 00:00:00</td>\n",
       "      <td>1.000000e+00</td>\n",
       "      <td>0.000000e+00</td>\n",
       "      <td>0.000000e+00</td>\n",
       "      <td>5.000000e+00</td>\n",
       "      <td>2.619000e+01</td>\n",
       "    </tr>\n",
       "    <tr>\n",
       "      <th>25%</th>\n",
       "      <td>2014-03-01 00:00:00</td>\n",
       "      <td>1.400000e+01</td>\n",
       "      <td>0.000000e+00</td>\n",
       "      <td>0.000000e+00</td>\n",
       "      <td>1.046000e+03</td>\n",
       "      <td>4.646000e+01</td>\n",
       "    </tr>\n",
       "    <tr>\n",
       "      <th>50%</th>\n",
       "      <td>2015-04-28 12:00:00</td>\n",
       "      <td>2.750000e+01</td>\n",
       "      <td>1.100000e+01</td>\n",
       "      <td>0.000000e+00</td>\n",
       "      <td>1.395000e+03</td>\n",
       "      <td>5.341000e+01</td>\n",
       "    </tr>\n",
       "    <tr>\n",
       "      <th>75%</th>\n",
       "      <td>2016-06-22 00:00:00</td>\n",
       "      <td>4.100000e+01</td>\n",
       "      <td>1.960000e+02</td>\n",
       "      <td>0.000000e+00</td>\n",
       "      <td>2.081000e+03</td>\n",
       "      <td>9.580000e+01</td>\n",
       "    </tr>\n",
       "    <tr>\n",
       "      <th>max</th>\n",
       "      <td>2017-08-15 00:00:00</td>\n",
       "      <td>5.400000e+01</td>\n",
       "      <td>3.680879e+03</td>\n",
       "      <td>7.410000e+02</td>\n",
       "      <td>8.359000e+03</td>\n",
       "      <td>1.106200e+02</td>\n",
       "    </tr>\n",
       "    <tr>\n",
       "      <th>std</th>\n",
       "      <td>NaN</td>\n",
       "      <td>1.558579e+01</td>\n",
       "      <td>7.338169e+02</td>\n",
       "      <td>1.225494e+01</td>\n",
       "      <td>9.668317e+02</td>\n",
       "      <td>2.566958e+01</td>\n",
       "    </tr>\n",
       "  </tbody>\n",
       "</table>\n",
       "</div>"
      ],
      "text/plain": [
       "                                date     store_nbr         sales  \\\n",
       "count                        3054348  3.054348e+06  3.054348e+06   \n",
       "mean   2015-04-26 12:11:45.717620480  2.750000e+01  3.037042e+02   \n",
       "min              2013-01-01 00:00:00  1.000000e+00  0.000000e+00   \n",
       "25%              2014-03-01 00:00:00  1.400000e+01  0.000000e+00   \n",
       "50%              2015-04-28 12:00:00  2.750000e+01  1.100000e+01   \n",
       "75%              2016-06-22 00:00:00  4.100000e+01  1.960000e+02   \n",
       "max              2017-08-15 00:00:00  5.400000e+01  3.680879e+03   \n",
       "std                              NaN  1.558579e+01  7.338169e+02   \n",
       "\n",
       "        onpromotion  transactions    oil_prices  \n",
       "count  3.054348e+06  2.805231e+06  2.175822e+06  \n",
       "mean   2.617480e+00  1.697071e+03  6.795358e+01  \n",
       "min    0.000000e+00  5.000000e+00  2.619000e+01  \n",
       "25%    0.000000e+00  1.046000e+03  4.646000e+01  \n",
       "50%    0.000000e+00  1.395000e+03  5.341000e+01  \n",
       "75%    0.000000e+00  2.081000e+03  9.580000e+01  \n",
       "max    7.410000e+02  8.359000e+03  1.106200e+02  \n",
       "std    1.225494e+01  9.668317e+02  2.566958e+01  "
      ]
     },
     "execution_count": 18,
     "metadata": {},
     "output_type": "execute_result"
    }
   ],
   "source": [
    "new_data.describe()"
   ]
  },
  {
   "cell_type": "code",
   "execution_count": 19,
   "id": "e9e6a09d",
   "metadata": {},
   "outputs": [],
   "source": [
    "new_df = pd.get_dummies(new_data, columns=['holiday_event', 'family'], drop_first=True)"
   ]
  },
  {
   "cell_type": "code",
   "execution_count": 21,
   "id": "d4c41bce",
   "metadata": {},
   "outputs": [],
   "source": [
    "cols_to_agg = ['sales', 'onpromotion', 'store_nbr'] + [c for c in new_df.columns if 'holiday_event_' in c or 'family_' in c]\n",
    "df_daily = new_df.groupby('date')[cols_to_agg].sum().reset_index()\n",
    "df_daily.rename(columns={'date':'ds', 'sales':'y'}, inplace=True)"
   ]
  },
  {
   "cell_type": "code",
   "execution_count": 22,
   "id": "d16d681b",
   "metadata": {},
   "outputs": [],
   "source": [
    "model = Prophet()"
   ]
  },
  {
   "cell_type": "code",
   "execution_count": 23,
   "id": "545f7d09",
   "metadata": {},
   "outputs": [],
   "source": [
    "model.add_regressor('onpromotion')\n",
    "model.add_regressor('store_nbr')\n",
    "for c in df_daily.columns:\n",
    "    if 'holiday_event_' in c or 'family_' in c:\n",
    "        model.add_regressor(c)"
   ]
  },
  {
   "cell_type": "code",
   "execution_count": 24,
   "id": "dd321ce1",
   "metadata": {},
   "outputs": [
    {
     "name": "stderr",
     "output_type": "stream",
     "text": [
      "11:49:32 - cmdstanpy - INFO - Chain [1] start processing\n",
      "11:49:37 - cmdstanpy - INFO - Chain [1] done processing\n"
     ]
    },
    {
     "data": {
      "text/plain": [
       "<prophet.forecaster.Prophet at 0x19fa5f350>"
      ]
     },
     "execution_count": 24,
     "metadata": {},
     "output_type": "execute_result"
    }
   ],
   "source": [
    "model.fit(df_daily)"
   ]
  },
  {
   "cell_type": "code",
   "execution_count": 25,
   "id": "dc40ec24",
   "metadata": {},
   "outputs": [],
   "source": [
    "future = model.make_future_dataframe(periods=180)"
   ]
  },
  {
   "cell_type": "code",
   "execution_count": 27,
   "id": "b7f5baaa",
   "metadata": {},
   "outputs": [
    {
     "name": "stderr",
     "output_type": "stream",
     "text": [
      "/var/folders/pd/ytcd7z3x2hddb0t98zp6vtrc0000gn/T/ipykernel_4684/3916645883.py:5: PerformanceWarning: DataFrame is highly fragmented.  This is usually the result of calling `frame.insert` many times, which has poor performance.  Consider joining all columns at once using pd.concat(axis=1) instead. To get a de-fragmented frame, use `newframe = frame.copy()`\n",
      "  future[c] = df_daily[c].mode()[0]\n",
      "/var/folders/pd/ytcd7z3x2hddb0t98zp6vtrc0000gn/T/ipykernel_4684/3916645883.py:5: PerformanceWarning: DataFrame is highly fragmented.  This is usually the result of calling `frame.insert` many times, which has poor performance.  Consider joining all columns at once using pd.concat(axis=1) instead. To get a de-fragmented frame, use `newframe = frame.copy()`\n",
      "  future[c] = df_daily[c].mode()[0]\n",
      "/var/folders/pd/ytcd7z3x2hddb0t98zp6vtrc0000gn/T/ipykernel_4684/3916645883.py:5: PerformanceWarning: DataFrame is highly fragmented.  This is usually the result of calling `frame.insert` many times, which has poor performance.  Consider joining all columns at once using pd.concat(axis=1) instead. To get a de-fragmented frame, use `newframe = frame.copy()`\n",
      "  future[c] = df_daily[c].mode()[0]\n",
      "/var/folders/pd/ytcd7z3x2hddb0t98zp6vtrc0000gn/T/ipykernel_4684/3916645883.py:5: PerformanceWarning: DataFrame is highly fragmented.  This is usually the result of calling `frame.insert` many times, which has poor performance.  Consider joining all columns at once using pd.concat(axis=1) instead. To get a de-fragmented frame, use `newframe = frame.copy()`\n",
      "  future[c] = df_daily[c].mode()[0]\n",
      "/var/folders/pd/ytcd7z3x2hddb0t98zp6vtrc0000gn/T/ipykernel_4684/3916645883.py:5: PerformanceWarning: DataFrame is highly fragmented.  This is usually the result of calling `frame.insert` many times, which has poor performance.  Consider joining all columns at once using pd.concat(axis=1) instead. To get a de-fragmented frame, use `newframe = frame.copy()`\n",
      "  future[c] = df_daily[c].mode()[0]\n",
      "/var/folders/pd/ytcd7z3x2hddb0t98zp6vtrc0000gn/T/ipykernel_4684/3916645883.py:5: PerformanceWarning: DataFrame is highly fragmented.  This is usually the result of calling `frame.insert` many times, which has poor performance.  Consider joining all columns at once using pd.concat(axis=1) instead. To get a de-fragmented frame, use `newframe = frame.copy()`\n",
      "  future[c] = df_daily[c].mode()[0]\n",
      "/var/folders/pd/ytcd7z3x2hddb0t98zp6vtrc0000gn/T/ipykernel_4684/3916645883.py:5: PerformanceWarning: DataFrame is highly fragmented.  This is usually the result of calling `frame.insert` many times, which has poor performance.  Consider joining all columns at once using pd.concat(axis=1) instead. To get a de-fragmented frame, use `newframe = frame.copy()`\n",
      "  future[c] = df_daily[c].mode()[0]\n",
      "/var/folders/pd/ytcd7z3x2hddb0t98zp6vtrc0000gn/T/ipykernel_4684/3916645883.py:5: PerformanceWarning: DataFrame is highly fragmented.  This is usually the result of calling `frame.insert` many times, which has poor performance.  Consider joining all columns at once using pd.concat(axis=1) instead. To get a de-fragmented frame, use `newframe = frame.copy()`\n",
      "  future[c] = df_daily[c].mode()[0]\n",
      "/var/folders/pd/ytcd7z3x2hddb0t98zp6vtrc0000gn/T/ipykernel_4684/3916645883.py:5: PerformanceWarning: DataFrame is highly fragmented.  This is usually the result of calling `frame.insert` many times, which has poor performance.  Consider joining all columns at once using pd.concat(axis=1) instead. To get a de-fragmented frame, use `newframe = frame.copy()`\n",
      "  future[c] = df_daily[c].mode()[0]\n",
      "/var/folders/pd/ytcd7z3x2hddb0t98zp6vtrc0000gn/T/ipykernel_4684/3916645883.py:5: PerformanceWarning: DataFrame is highly fragmented.  This is usually the result of calling `frame.insert` many times, which has poor performance.  Consider joining all columns at once using pd.concat(axis=1) instead. To get a de-fragmented frame, use `newframe = frame.copy()`\n",
      "  future[c] = df_daily[c].mode()[0]\n",
      "/var/folders/pd/ytcd7z3x2hddb0t98zp6vtrc0000gn/T/ipykernel_4684/3916645883.py:5: PerformanceWarning: DataFrame is highly fragmented.  This is usually the result of calling `frame.insert` many times, which has poor performance.  Consider joining all columns at once using pd.concat(axis=1) instead. To get a de-fragmented frame, use `newframe = frame.copy()`\n",
      "  future[c] = df_daily[c].mode()[0]\n",
      "/var/folders/pd/ytcd7z3x2hddb0t98zp6vtrc0000gn/T/ipykernel_4684/3916645883.py:5: PerformanceWarning: DataFrame is highly fragmented.  This is usually the result of calling `frame.insert` many times, which has poor performance.  Consider joining all columns at once using pd.concat(axis=1) instead. To get a de-fragmented frame, use `newframe = frame.copy()`\n",
      "  future[c] = df_daily[c].mode()[0]\n",
      "/var/folders/pd/ytcd7z3x2hddb0t98zp6vtrc0000gn/T/ipykernel_4684/3916645883.py:5: PerformanceWarning: DataFrame is highly fragmented.  This is usually the result of calling `frame.insert` many times, which has poor performance.  Consider joining all columns at once using pd.concat(axis=1) instead. To get a de-fragmented frame, use `newframe = frame.copy()`\n",
      "  future[c] = df_daily[c].mode()[0]\n",
      "/var/folders/pd/ytcd7z3x2hddb0t98zp6vtrc0000gn/T/ipykernel_4684/3916645883.py:5: PerformanceWarning: DataFrame is highly fragmented.  This is usually the result of calling `frame.insert` many times, which has poor performance.  Consider joining all columns at once using pd.concat(axis=1) instead. To get a de-fragmented frame, use `newframe = frame.copy()`\n",
      "  future[c] = df_daily[c].mode()[0]\n",
      "/var/folders/pd/ytcd7z3x2hddb0t98zp6vtrc0000gn/T/ipykernel_4684/3916645883.py:5: PerformanceWarning: DataFrame is highly fragmented.  This is usually the result of calling `frame.insert` many times, which has poor performance.  Consider joining all columns at once using pd.concat(axis=1) instead. To get a de-fragmented frame, use `newframe = frame.copy()`\n",
      "  future[c] = df_daily[c].mode()[0]\n",
      "/var/folders/pd/ytcd7z3x2hddb0t98zp6vtrc0000gn/T/ipykernel_4684/3916645883.py:5: PerformanceWarning: DataFrame is highly fragmented.  This is usually the result of calling `frame.insert` many times, which has poor performance.  Consider joining all columns at once using pd.concat(axis=1) instead. To get a de-fragmented frame, use `newframe = frame.copy()`\n",
      "  future[c] = df_daily[c].mode()[0]\n",
      "/var/folders/pd/ytcd7z3x2hddb0t98zp6vtrc0000gn/T/ipykernel_4684/3916645883.py:5: PerformanceWarning: DataFrame is highly fragmented.  This is usually the result of calling `frame.insert` many times, which has poor performance.  Consider joining all columns at once using pd.concat(axis=1) instead. To get a de-fragmented frame, use `newframe = frame.copy()`\n",
      "  future[c] = df_daily[c].mode()[0]\n",
      "/var/folders/pd/ytcd7z3x2hddb0t98zp6vtrc0000gn/T/ipykernel_4684/3916645883.py:5: PerformanceWarning: DataFrame is highly fragmented.  This is usually the result of calling `frame.insert` many times, which has poor performance.  Consider joining all columns at once using pd.concat(axis=1) instead. To get a de-fragmented frame, use `newframe = frame.copy()`\n",
      "  future[c] = df_daily[c].mode()[0]\n",
      "/var/folders/pd/ytcd7z3x2hddb0t98zp6vtrc0000gn/T/ipykernel_4684/3916645883.py:5: PerformanceWarning: DataFrame is highly fragmented.  This is usually the result of calling `frame.insert` many times, which has poor performance.  Consider joining all columns at once using pd.concat(axis=1) instead. To get a de-fragmented frame, use `newframe = frame.copy()`\n",
      "  future[c] = df_daily[c].mode()[0]\n",
      "/var/folders/pd/ytcd7z3x2hddb0t98zp6vtrc0000gn/T/ipykernel_4684/3916645883.py:5: PerformanceWarning: DataFrame is highly fragmented.  This is usually the result of calling `frame.insert` many times, which has poor performance.  Consider joining all columns at once using pd.concat(axis=1) instead. To get a de-fragmented frame, use `newframe = frame.copy()`\n",
      "  future[c] = df_daily[c].mode()[0]\n",
      "/var/folders/pd/ytcd7z3x2hddb0t98zp6vtrc0000gn/T/ipykernel_4684/3916645883.py:5: PerformanceWarning: DataFrame is highly fragmented.  This is usually the result of calling `frame.insert` many times, which has poor performance.  Consider joining all columns at once using pd.concat(axis=1) instead. To get a de-fragmented frame, use `newframe = frame.copy()`\n",
      "  future[c] = df_daily[c].mode()[0]\n",
      "/var/folders/pd/ytcd7z3x2hddb0t98zp6vtrc0000gn/T/ipykernel_4684/3916645883.py:5: PerformanceWarning: DataFrame is highly fragmented.  This is usually the result of calling `frame.insert` many times, which has poor performance.  Consider joining all columns at once using pd.concat(axis=1) instead. To get a de-fragmented frame, use `newframe = frame.copy()`\n",
      "  future[c] = df_daily[c].mode()[0]\n",
      "/var/folders/pd/ytcd7z3x2hddb0t98zp6vtrc0000gn/T/ipykernel_4684/3916645883.py:5: PerformanceWarning: DataFrame is highly fragmented.  This is usually the result of calling `frame.insert` many times, which has poor performance.  Consider joining all columns at once using pd.concat(axis=1) instead. To get a de-fragmented frame, use `newframe = frame.copy()`\n",
      "  future[c] = df_daily[c].mode()[0]\n",
      "/var/folders/pd/ytcd7z3x2hddb0t98zp6vtrc0000gn/T/ipykernel_4684/3916645883.py:5: PerformanceWarning: DataFrame is highly fragmented.  This is usually the result of calling `frame.insert` many times, which has poor performance.  Consider joining all columns at once using pd.concat(axis=1) instead. To get a de-fragmented frame, use `newframe = frame.copy()`\n",
      "  future[c] = df_daily[c].mode()[0]\n",
      "/var/folders/pd/ytcd7z3x2hddb0t98zp6vtrc0000gn/T/ipykernel_4684/3916645883.py:5: PerformanceWarning: DataFrame is highly fragmented.  This is usually the result of calling `frame.insert` many times, which has poor performance.  Consider joining all columns at once using pd.concat(axis=1) instead. To get a de-fragmented frame, use `newframe = frame.copy()`\n",
      "  future[c] = df_daily[c].mode()[0]\n",
      "/var/folders/pd/ytcd7z3x2hddb0t98zp6vtrc0000gn/T/ipykernel_4684/3916645883.py:5: PerformanceWarning: DataFrame is highly fragmented.  This is usually the result of calling `frame.insert` many times, which has poor performance.  Consider joining all columns at once using pd.concat(axis=1) instead. To get a de-fragmented frame, use `newframe = frame.copy()`\n",
      "  future[c] = df_daily[c].mode()[0]\n",
      "/var/folders/pd/ytcd7z3x2hddb0t98zp6vtrc0000gn/T/ipykernel_4684/3916645883.py:5: PerformanceWarning: DataFrame is highly fragmented.  This is usually the result of calling `frame.insert` many times, which has poor performance.  Consider joining all columns at once using pd.concat(axis=1) instead. To get a de-fragmented frame, use `newframe = frame.copy()`\n",
      "  future[c] = df_daily[c].mode()[0]\n",
      "/var/folders/pd/ytcd7z3x2hddb0t98zp6vtrc0000gn/T/ipykernel_4684/3916645883.py:5: PerformanceWarning: DataFrame is highly fragmented.  This is usually the result of calling `frame.insert` many times, which has poor performance.  Consider joining all columns at once using pd.concat(axis=1) instead. To get a de-fragmented frame, use `newframe = frame.copy()`\n",
      "  future[c] = df_daily[c].mode()[0]\n",
      "/var/folders/pd/ytcd7z3x2hddb0t98zp6vtrc0000gn/T/ipykernel_4684/3916645883.py:5: PerformanceWarning: DataFrame is highly fragmented.  This is usually the result of calling `frame.insert` many times, which has poor performance.  Consider joining all columns at once using pd.concat(axis=1) instead. To get a de-fragmented frame, use `newframe = frame.copy()`\n",
      "  future[c] = df_daily[c].mode()[0]\n",
      "/var/folders/pd/ytcd7z3x2hddb0t98zp6vtrc0000gn/T/ipykernel_4684/3916645883.py:5: PerformanceWarning: DataFrame is highly fragmented.  This is usually the result of calling `frame.insert` many times, which has poor performance.  Consider joining all columns at once using pd.concat(axis=1) instead. To get a de-fragmented frame, use `newframe = frame.copy()`\n",
      "  future[c] = df_daily[c].mode()[0]\n",
      "/var/folders/pd/ytcd7z3x2hddb0t98zp6vtrc0000gn/T/ipykernel_4684/3916645883.py:5: PerformanceWarning: DataFrame is highly fragmented.  This is usually the result of calling `frame.insert` many times, which has poor performance.  Consider joining all columns at once using pd.concat(axis=1) instead. To get a de-fragmented frame, use `newframe = frame.copy()`\n",
      "  future[c] = df_daily[c].mode()[0]\n",
      "/var/folders/pd/ytcd7z3x2hddb0t98zp6vtrc0000gn/T/ipykernel_4684/3916645883.py:5: PerformanceWarning: DataFrame is highly fragmented.  This is usually the result of calling `frame.insert` many times, which has poor performance.  Consider joining all columns at once using pd.concat(axis=1) instead. To get a de-fragmented frame, use `newframe = frame.copy()`\n",
      "  future[c] = df_daily[c].mode()[0]\n",
      "/var/folders/pd/ytcd7z3x2hddb0t98zp6vtrc0000gn/T/ipykernel_4684/3916645883.py:5: PerformanceWarning: DataFrame is highly fragmented.  This is usually the result of calling `frame.insert` many times, which has poor performance.  Consider joining all columns at once using pd.concat(axis=1) instead. To get a de-fragmented frame, use `newframe = frame.copy()`\n",
      "  future[c] = df_daily[c].mode()[0]\n",
      "/var/folders/pd/ytcd7z3x2hddb0t98zp6vtrc0000gn/T/ipykernel_4684/3916645883.py:5: PerformanceWarning: DataFrame is highly fragmented.  This is usually the result of calling `frame.insert` many times, which has poor performance.  Consider joining all columns at once using pd.concat(axis=1) instead. To get a de-fragmented frame, use `newframe = frame.copy()`\n",
      "  future[c] = df_daily[c].mode()[0]\n",
      "/var/folders/pd/ytcd7z3x2hddb0t98zp6vtrc0000gn/T/ipykernel_4684/3916645883.py:5: PerformanceWarning: DataFrame is highly fragmented.  This is usually the result of calling `frame.insert` many times, which has poor performance.  Consider joining all columns at once using pd.concat(axis=1) instead. To get a de-fragmented frame, use `newframe = frame.copy()`\n",
      "  future[c] = df_daily[c].mode()[0]\n"
     ]
    }
   ],
   "source": [
    "future['onpromotion'] = df_daily['onpromotion'].iloc[-1]\n",
    "future['store_nbr'] = df_daily['store_nbr'].iloc[-1]\n",
    "for c in df_daily.columns:\n",
    "    if 'holiday_event_' in c or 'family_' in c:\n",
    "        future[c] = df_daily[c].mode()[0]"
   ]
  },
  {
   "cell_type": "code",
   "execution_count": 28,
   "id": "ce1afdde",
   "metadata": {},
   "outputs": [
    {
     "name": "stderr",
     "output_type": "stream",
     "text": [
      "/Users/Famille/anaconda3/lib/python3.11/site-packages/prophet/forecaster.py:1275: PerformanceWarning: DataFrame is highly fragmented.  This is usually the result of calling `frame.insert` many times, which has poor performance.  Consider joining all columns at once using pd.concat(axis=1) instead. To get a de-fragmented frame, use `newframe = frame.copy()`\n",
      "  df['trend'] = self.predict_trend(df)\n"
     ]
    }
   ],
   "source": [
    "forecast = model.predict(future)"
   ]
  },
  {
   "cell_type": "code",
   "execution_count": 30,
   "id": "b69b8119",
   "metadata": {},
   "outputs": [
    {
     "name": "stdout",
     "output_type": "stream",
     "text": [
      "Sum of forecast (next 180 days): 131333811.77699332\n"
     ]
    }
   ],
   "source": [
    "future_forecast = forecast.iloc[-180:]\n",
    "print(\"Sum of forecast (next 180 days):\", future_forecast['yhat'].sum())"
   ]
  },
  {
   "cell_type": "code",
   "execution_count": 31,
   "id": "07590e21",
   "metadata": {},
   "outputs": [
    {
     "name": "stdout",
     "output_type": "stream",
     "text": [
      "Sum of forecast: 1110801341.6077476\n"
     ]
    }
   ],
   "source": [
    "print(\"Sum of forecast:\", forecast['yhat'].sum())"
   ]
  },
  {
   "cell_type": "code",
   "execution_count": 32,
   "id": "e52c25a0",
   "metadata": {},
   "outputs": [],
   "source": [
    "forecast_clean = future_forecast[['ds','yhat','yhat_lower','yhat_upper','trend','weekly','yearly']].copy()\n",
    "forecast_clean.rename(columns={\n",
    "    'ds':'forecast_date',\n",
    "    'yhat':'forecast',\n",
    "    'yhat_lower':'forecast_lower',\n",
    "    'yhat_upper':'forecast_upper',\n",
    "    'weekly':'weekly_seasonality',\n",
    "    'yearly':'yearly_seasonality'\n",
    "}, inplace=True)\n",
    "forecast_clean.to_csv(\"forecast_data.csv\", index=False)"
   ]
  },
  {
   "cell_type": "code",
   "execution_count": 33,
   "id": "a660a06c",
   "metadata": {},
   "outputs": [],
   "source": [
    "forecast_clean = forecast[['ds','yhat','yhat_lower','yhat_upper','trend','weekly','yearly']].copy()\n",
    "forecast_clean.rename(columns={\n",
    "    'ds':'forecast_date',\n",
    "    'yhat':'forecast',\n",
    "    'yhat_lower':'forecast_lower',\n",
    "    'yhat_upper':'forecast_upper',\n",
    "    'weekly':'weekly_seasonality',\n",
    "    'yearly':'yearly_seasonality'\n",
    "}, inplace=True)\n",
    "forecast_clean.to_csv(\"forecast_all_data.csv\", index=False)"
   ]
  },
  {
   "cell_type": "code",
   "execution_count": 34,
   "id": "1e6b8b3a",
   "metadata": {},
   "outputs": [
    {
     "data": {
      "image/png": "[encoded data removed]",
      "text/plain": [
       "<Figure size 1000x600 with 1 Axes>"
      ]
     },
     "metadata": {},
     "output_type": "display_data"
    }
   ],
   "source": [
    "model.plot(forecast)\n",
    "plt.title(\"Sales Forecast\")\n",
    "plt.xlabel(\"Date\")\n",
    "plt.ylabel(\"Sales\")\n",
    "plt.show()"
   ]
  },
  {
   "cell_type": "code",
   "execution_count": null,
   "id": "a51d6fef",
   "metadata": {},
   "outputs": [],
   "source": []
  }
 ],
 "metadata": {
  "kernelspec": {
   "display_name": "Python 3 (ipykernel)",
   "language": "python",
   "name": "python3"
  },
  "language_info": {
   "codemirror_mode": {
    "name": "ipython",
    "version": 3
   },
   "file_extension": ".py",
   "mimetype": "text/x-python",
   "name": "python",
   "nbconvert_exporter": "python",
   "pygments_lexer": "ipython3",
   "version": "3.11.5"
  }
 },
 "nbformat": 4,
 "nbformat_minor": 5
}
